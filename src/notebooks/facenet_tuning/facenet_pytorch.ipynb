{
  "cells": [
    {
      "cell_type": "code",
      "execution_count": 2,
      "metadata": {
        "colab": {
          "base_uri": "https://localhost:8080/",
          "height": 1000
        },
        "collapsed": true,
        "id": "8z4ddQ5FTNf4",
        "outputId": "e0ae00b7-cace-46b0-b060-23133dc1da41"
      },
      "outputs": [
        {
          "name": "stdout",
          "output_type": "stream",
          "text": [
            "Requirement already satisfied: facenet_pytorch in /system/conda/miniconda3/envs/cloudspace/lib/python3.10/site-packages (2.6.0)\n",
            "Requirement already satisfied: numpy<2.0.0,>=1.24.0 in /system/conda/miniconda3/envs/cloudspace/lib/python3.10/site-packages (from facenet_pytorch) (1.26.4)\n",
            "Requirement already satisfied: Pillow<10.3.0,>=10.2.0 in /system/conda/miniconda3/envs/cloudspace/lib/python3.10/site-packages (from facenet_pytorch) (10.2.0)\n",
            "Requirement already satisfied: requests<3.0.0,>=2.0.0 in /system/conda/miniconda3/envs/cloudspace/lib/python3.10/site-packages (from facenet_pytorch) (2.32.3)\n",
            "Requirement already satisfied: torch<2.3.0,>=2.2.0 in /system/conda/miniconda3/envs/cloudspace/lib/python3.10/site-packages (from facenet_pytorch) (2.2.1+cu121)\n",
            "Requirement already satisfied: torchvision<0.18.0,>=0.17.0 in /system/conda/miniconda3/envs/cloudspace/lib/python3.10/site-packages (from facenet_pytorch) (0.17.1+cu121)\n",
            "Requirement already satisfied: tqdm<5.0.0,>=4.0.0 in /system/conda/miniconda3/envs/cloudspace/lib/python3.10/site-packages (from facenet_pytorch) (4.66.1)\n",
            "Requirement already satisfied: charset-normalizer<4,>=2 in /system/conda/miniconda3/envs/cloudspace/lib/python3.10/site-packages (from requests<3.0.0,>=2.0.0->facenet_pytorch) (3.4.1)\n",
            "Requirement already satisfied: idna<4,>=2.5 in /system/conda/miniconda3/envs/cloudspace/lib/python3.10/site-packages (from requests<3.0.0,>=2.0.0->facenet_pytorch) (3.10)\n",
            "Requirement already satisfied: urllib3<3,>=1.21.1 in /system/conda/miniconda3/envs/cloudspace/lib/python3.10/site-packages (from requests<3.0.0,>=2.0.0->facenet_pytorch) (2.3.0)\n",
            "Requirement already satisfied: certifi>=2017.4.17 in /system/conda/miniconda3/envs/cloudspace/lib/python3.10/site-packages (from requests<3.0.0,>=2.0.0->facenet_pytorch) (2024.12.14)\n",
            "Requirement already satisfied: filelock in /system/conda/miniconda3/envs/cloudspace/lib/python3.10/site-packages (from torch<2.3.0,>=2.2.0->facenet_pytorch) (3.17.0)\n",
            "Requirement already satisfied: typing-extensions>=4.8.0 in /system/conda/miniconda3/envs/cloudspace/lib/python3.10/site-packages (from torch<2.3.0,>=2.2.0->facenet_pytorch) (4.12.2)\n",
            "Requirement already satisfied: sympy in /system/conda/miniconda3/envs/cloudspace/lib/python3.10/site-packages (from torch<2.3.0,>=2.2.0->facenet_pytorch) (1.13.3)\n",
            "Requirement already satisfied: networkx in /system/conda/miniconda3/envs/cloudspace/lib/python3.10/site-packages (from torch<2.3.0,>=2.2.0->facenet_pytorch) (3.4.2)\n",
            "Requirement already satisfied: jinja2 in /system/conda/miniconda3/envs/cloudspace/lib/python3.10/site-packages (from torch<2.3.0,>=2.2.0->facenet_pytorch) (3.1.5)\n",
            "Requirement already satisfied: fsspec in /system/conda/miniconda3/envs/cloudspace/lib/python3.10/site-packages (from torch<2.3.0,>=2.2.0->facenet_pytorch) (2024.12.0)\n",
            "Requirement already satisfied: nvidia-cuda-nvrtc-cu12==12.1.105 in /system/conda/miniconda3/envs/cloudspace/lib/python3.10/site-packages (from torch<2.3.0,>=2.2.0->facenet_pytorch) (12.1.105)\n",
            "Requirement already satisfied: nvidia-cuda-runtime-cu12==12.1.105 in /system/conda/miniconda3/envs/cloudspace/lib/python3.10/site-packages (from torch<2.3.0,>=2.2.0->facenet_pytorch) (12.1.105)\n",
            "Requirement already satisfied: nvidia-cuda-cupti-cu12==12.1.105 in /system/conda/miniconda3/envs/cloudspace/lib/python3.10/site-packages (from torch<2.3.0,>=2.2.0->facenet_pytorch) (12.1.105)\n",
            "Requirement already satisfied: nvidia-cudnn-cu12==8.9.2.26 in /system/conda/miniconda3/envs/cloudspace/lib/python3.10/site-packages (from torch<2.3.0,>=2.2.0->facenet_pytorch) (8.9.2.26)\n",
            "Requirement already satisfied: nvidia-cublas-cu12==12.1.3.1 in /system/conda/miniconda3/envs/cloudspace/lib/python3.10/site-packages (from torch<2.3.0,>=2.2.0->facenet_pytorch) (12.1.3.1)\n",
            "Requirement already satisfied: nvidia-cufft-cu12==11.0.2.54 in /system/conda/miniconda3/envs/cloudspace/lib/python3.10/site-packages (from torch<2.3.0,>=2.2.0->facenet_pytorch) (11.0.2.54)\n",
            "Requirement already satisfied: nvidia-curand-cu12==10.3.2.106 in /system/conda/miniconda3/envs/cloudspace/lib/python3.10/site-packages (from torch<2.3.0,>=2.2.0->facenet_pytorch) (10.3.2.106)\n",
            "Requirement already satisfied: nvidia-cusolver-cu12==11.4.5.107 in /system/conda/miniconda3/envs/cloudspace/lib/python3.10/site-packages (from torch<2.3.0,>=2.2.0->facenet_pytorch) (11.4.5.107)\n",
            "Requirement already satisfied: nvidia-cusparse-cu12==12.1.0.106 in /system/conda/miniconda3/envs/cloudspace/lib/python3.10/site-packages (from torch<2.3.0,>=2.2.0->facenet_pytorch) (12.1.0.106)\n",
            "Requirement already satisfied: nvidia-nccl-cu12==2.19.3 in /system/conda/miniconda3/envs/cloudspace/lib/python3.10/site-packages (from torch<2.3.0,>=2.2.0->facenet_pytorch) (2.19.3)\n",
            "Requirement already satisfied: nvidia-nvtx-cu12==12.1.105 in /system/conda/miniconda3/envs/cloudspace/lib/python3.10/site-packages (from torch<2.3.0,>=2.2.0->facenet_pytorch) (12.1.105)\n",
            "Requirement already satisfied: triton==2.2.0 in /system/conda/miniconda3/envs/cloudspace/lib/python3.10/site-packages (from torch<2.3.0,>=2.2.0->facenet_pytorch) (2.2.0)\n",
            "Requirement already satisfied: nvidia-nvjitlink-cu12 in /system/conda/miniconda3/envs/cloudspace/lib/python3.10/site-packages (from nvidia-cusolver-cu12==11.4.5.107->torch<2.3.0,>=2.2.0->facenet_pytorch) (12.6.85)\n",
            "Requirement already satisfied: MarkupSafe>=2.0 in /system/conda/miniconda3/envs/cloudspace/lib/python3.10/site-packages (from jinja2->torch<2.3.0,>=2.2.0->facenet_pytorch) (3.0.2)\n",
            "Requirement already satisfied: mpmath<1.4,>=1.1.0 in /system/conda/miniconda3/envs/cloudspace/lib/python3.10/site-packages (from sympy->torch<2.3.0,>=2.2.0->facenet_pytorch) (1.3.0)\n"
          ]
        },
        {
          "name": "stdout",
          "output_type": "stream",
          "text": [
            "\n",
            "\u001b[1m[\u001b[0m\u001b[34;49mnotice\u001b[0m\u001b[1;39;49m]\u001b[0m\u001b[39;49m A new release of pip is available: \u001b[0m\u001b[31;49m24.3.1\u001b[0m\u001b[39;49m -> \u001b[0m\u001b[32;49m25.0\u001b[0m\n",
            "\u001b[1m[\u001b[0m\u001b[34;49mnotice\u001b[0m\u001b[1;39;49m]\u001b[0m\u001b[39;49m To update, run: \u001b[0m\u001b[32;49mpip install --upgrade pip\u001b[0m\n"
          ]
        }
      ],
      "source": [
        "!pip install facenet_pytorch"
      ]
    },
    {
      "cell_type": "code",
      "execution_count": 3,
      "metadata": {
        "id": "TV2ziVA45bql"
      },
      "outputs": [],
      "source": [
        "import random\n",
        "import os\n",
        "from PIL import Image\n",
        "import torch\n",
        "from torch.utils.data import Dataset,DataLoader\n",
        "import torchvision.transforms as transforms\n",
        "import matplotlib.pyplot as plt\n",
        "import torch.optim as optim\n",
        "from torch.utils.data import DataLoader\n",
        "import torch.nn.functional as F\n",
        "import torch.nn as nn\n",
        "from torch.optim.lr_scheduler import StepLR\n",
        "from torch.nn.modules.distance import PairwiseDistance\n",
        "from torch.nn.functional import cosine_similarity\n",
        "from facenet_pytorch import InceptionResnetV1\n",
        "from tqdm import tqdm\n",
        "from torch.utils.tensorboard import SummaryWriter"
      ]
    },
    {
      "cell_type": "code",
      "execution_count": 4,
      "metadata": {
        "id": "HTtmA9YK-TH4"
      },
      "outputs": [],
      "source": [
        "transform = transforms.Compose([\n",
        "    transforms.ToTensor(),\n",
        "    transforms.Normalize(mean=[0.5, 0.5, 0.5], std=[0.5, 0.5, 0.5])\n",
        "])\n",
        "\n",
        "\n",
        "class FaceTripletDataset(Dataset):\n",
        "    def __init__(self, root_dir, train_dir, transform=None, num_triplets=1000):\n",
        "\n",
        "        self.root_dir = root_dir\n",
        "        self.train_dir = train_dir\n",
        "        self.transform = transform\n",
        "        self.num_triplets = num_triplets\n",
        "\n",
        "        # Load anchors from BIZOS folder\n",
        "        self.anchors = self.load_anchors()\n",
        "        self.anchor_names = list(self.anchors.keys())\n",
        "\n",
        "        # Get list of classes from train folder\n",
        "        self.classes = [d for d in os.listdir(train_dir) if os.path.isdir(os.path.join(train_dir, d))]\n",
        "\n",
        "    def load_anchors(self):\n",
        "        # Load anchor image from BIZOS folder\n",
        "        bizos_path = self.root_dir\n",
        "        anchors = {file.split(\".\")[0]: os.path.join(bizos_path, file) for file in os.listdir(bizos_path)}\n",
        "        return anchors\n",
        "\n",
        "    def __len__(self):\n",
        "        return self.num_triplets  # Dataset Increase\n",
        "\n",
        "    def __getitem__(self, idx):\n",
        "        person = random.choice(self.anchor_names)\n",
        "        anchor_path = self.anchors[person]\n",
        "\n",
        "        # positive image\n",
        "        person_folder = os.path.join(self.train_dir, person)\n",
        "        positive_list = os.listdir(person_folder)\n",
        "        positive_path = os.path.join(person_folder, random.choice(positive_list))\n",
        "\n",
        "        # negative image\n",
        "        negative_person = random.choice([p for p in self.classes if p != person])\n",
        "        negative_folder = os.path.join(self.train_dir, negative_person)\n",
        "        negative_list = os.listdir(negative_folder)\n",
        "        negative_path = os.path.join(negative_folder, random.choice(negative_list))\n",
        "\n",
        "        # Load and transform images\n",
        "        anchor = Image.open(anchor_path).convert(\"RGB\")\n",
        "        positive = Image.open(positive_path).convert(\"RGB\")\n",
        "        negative = Image.open(negative_path).convert(\"RGB\")\n",
        "\n",
        "        if self.transform:\n",
        "            anchor = self.transform(anchor)\n",
        "            positive = self.transform(positive)\n",
        "            negative = self.transform(negative)\n",
        "\n",
        "        return anchor, positive, negative\n",
        "\n"
      ]
    },
    {
      "cell_type": "code",
      "execution_count": 5,
      "metadata": {
        "id": "P0iID4yQ-TGm"
      },
      "outputs": [],
      "source": [
        "bizos_path = \"/teamspace/studios/this_studio/dataset/BIZOS\"\n",
        "train_path = \"/teamspace/studios/this_studio/dataset/train\"\n",
        "val_path = \"/teamspace/studios/this_studio/dataset/val\"\n",
        "# test_path = \"/content/drive/MyDrive/final_project_bajra/dataset/test\"\n",
        "\n",
        "train_dataset = FaceTripletDataset(root_dir=bizos_path,train_dir=train_path, transform=transform,num_triplets=10000)\n",
        "val_dataset = FaceTripletDataset(root_dir=bizos_path,train_dir=val_path, transform=transform,num_triplets=1250)\n",
        "\n",
        "\n",
        "train_loader = DataLoader(train_dataset, batch_size=128, shuffle=True,drop_last=True)\n",
        "val_loader = DataLoader(val_dataset, batch_size=128, shuffle=False,drop_last=True)"
      ]
    },
    {
      "cell_type": "code",
      "execution_count": 6,
      "metadata": {
        "id": "bXTt8YTFTXDw"
      },
      "outputs": [],
      "source": [
        "class Model(nn.Module):\n",
        "  def __init__(self):\n",
        "    super().__init__()\n",
        "    self.facenet=InceptionResnetV1(pretrained='casia-webface',classify=False).train()\n",
        "    self.facenet.last_bn=torch.nn.Identity()\n",
        "    self.facenet.logits=torch.nn.Identity()\n",
        "    self.freeze()\n",
        "\n",
        "\n",
        "  def freeze(self):\n",
        "    for param in self.facenet.parameters():\n",
        "      param.requires_grad_(True)\n",
        "\n",
        "    # for param in self.facenet.block8.parameters():\n",
        "    #   param.requires_grad_(True)\n",
        "\n",
        "    # for param in self.facenet.last_linear.parameters():\n",
        "    #   param.requires_grad_(True)\n",
        "\n",
        "  def forward(self,x):\n",
        "\n",
        "    return self.facenet(x)\n"
      ]
    },
    {
      "cell_type": "code",
      "execution_count": 12,
      "metadata": {
        "id": "5b767bYsTtFZ"
      },
      "outputs": [],
      "source": [
        "device = \"cuda\" if torch.cuda.is_available() else \"cpu\"\n",
        "model = Model().to(device)\n",
        "\n",
        "# Define Triplet Loss\n",
        "criterion = torch.nn.TripletMarginLoss(margin=1)\n",
        "optimizer = optim.Adam(model.parameters(), lr=2e-5,weight_decay=0.01)\n",
        "scheduler = optim.lr_scheduler.ReduceLROnPlateau(optimizer, mode='min', factor=0.5, patience=3)"
      ]
    },
    {
      "cell_type": "code",
      "execution_count": 11,
      "metadata": {
        "id": "cDCzSUPvT20z"
      },
      "outputs": [],
      "source": [
        "def semi_hard_negative_mining(anchor_emb, positive_emb, negative_emb):\n",
        "    pos_dist = F.pairwise_distance(anchor_emb, positive_emb, p=2)\n",
        "    neg_dist = F.pairwise_distance(anchor_emb, negative_emb, p=2)\n",
        "\n",
        "    # Select semi-hard negatives\n",
        "    mask = (neg_dist > pos_dist) & (neg_dist < pos_dist + 1)  # Semi-hard condition\n",
        "    return mask"
      ]
    },
    {
      "cell_type": "code",
      "execution_count": 12,
      "metadata": {
        "colab": {
          "base_uri": "https://localhost:8080/"
        },
        "id": "wkZ1ER4LEr9Z",
        "outputId": "b82973cf-a5ba-4a37-e03a-37618647a102"
      },
      "outputs": [
        {
          "name": "stderr",
          "output_type": "stream",
          "text": [
            "                                               \r"
          ]
        },
        {
          "name": "stdout",
          "output_type": "stream",
          "text": [
            "Epoch: 0 | Train Loss: 0.6634 | Val Loss: 0.7420\n",
            "Model saved!\n"
          ]
        },
        {
          "name": "stderr",
          "output_type": "stream",
          "text": [
            "                                               \r"
          ]
        },
        {
          "name": "stdout",
          "output_type": "stream",
          "text": [
            "Epoch: 1 | Train Loss: 0.4320 | Val Loss: 0.5275\n",
            "Model saved!\n"
          ]
        },
        {
          "name": "stderr",
          "output_type": "stream",
          "text": [
            "                                               \r"
          ]
        },
        {
          "name": "stdout",
          "output_type": "stream",
          "text": [
            "Epoch: 2 | Train Loss: 0.4190 | Val Loss: 0.3998\n",
            "Model saved!\n"
          ]
        },
        {
          "name": "stderr",
          "output_type": "stream",
          "text": [
            "                                               \r"
          ]
        },
        {
          "name": "stdout",
          "output_type": "stream",
          "text": [
            "Epoch: 3 | Train Loss: 0.3816 | Val Loss: 0.3633\n",
            "Model saved!\n"
          ]
        },
        {
          "name": "stderr",
          "output_type": "stream",
          "text": [
            "                                               \r"
          ]
        },
        {
          "name": "stdout",
          "output_type": "stream",
          "text": [
            "Epoch: 4 | Train Loss: 0.3128 | Val Loss: 0.3341\n",
            "Model saved!\n"
          ]
        },
        {
          "name": "stderr",
          "output_type": "stream",
          "text": [
            "                                               \r"
          ]
        },
        {
          "name": "stdout",
          "output_type": "stream",
          "text": [
            "Epoch: 5 | Train Loss: 0.2492 | Val Loss: 0.2897\n",
            "Model saved!\n"
          ]
        },
        {
          "name": "stderr",
          "output_type": "stream",
          "text": [
            "                                               \r"
          ]
        },
        {
          "name": "stdout",
          "output_type": "stream",
          "text": [
            "Epoch: 6 | Train Loss: 0.1774 | Val Loss: 0.2602\n",
            "Model saved!\n"
          ]
        },
        {
          "name": "stderr",
          "output_type": "stream",
          "text": [
            "                                               \r"
          ]
        },
        {
          "name": "stdout",
          "output_type": "stream",
          "text": [
            "Epoch: 7 | Train Loss: 0.1227 | Val Loss: 0.2944\n"
          ]
        },
        {
          "name": "stderr",
          "output_type": "stream",
          "text": [
            "                                               \r"
          ]
        },
        {
          "name": "stdout",
          "output_type": "stream",
          "text": [
            "Epoch: 8 | Train Loss: 0.0775 | Val Loss: 0.2566\n",
            "Model saved!\n"
          ]
        },
        {
          "name": "stderr",
          "output_type": "stream",
          "text": [
            "                                               \r"
          ]
        },
        {
          "name": "stdout",
          "output_type": "stream",
          "text": [
            "Epoch: 9 | Train Loss: 0.0893 | Val Loss: 0.2754\n"
          ]
        },
        {
          "name": "stderr",
          "output_type": "stream",
          "text": [
            "                                               \r"
          ]
        },
        {
          "name": "stdout",
          "output_type": "stream",
          "text": [
            "Epoch: 10 | Train Loss: 0.1027 | Val Loss: 0.2767\n"
          ]
        },
        {
          "name": "stderr",
          "output_type": "stream",
          "text": [
            "                                               \r"
          ]
        },
        {
          "name": "stdout",
          "output_type": "stream",
          "text": [
            "Epoch: 11 | Train Loss: 0.0949 | Val Loss: 0.1640\n",
            "Model saved!\n"
          ]
        },
        {
          "name": "stderr",
          "output_type": "stream",
          "text": [
            "                                               \r"
          ]
        },
        {
          "name": "stdout",
          "output_type": "stream",
          "text": [
            "Epoch: 12 | Train Loss: 0.1112 | Val Loss: 0.2189\n"
          ]
        },
        {
          "name": "stderr",
          "output_type": "stream",
          "text": [
            "                                               \r"
          ]
        },
        {
          "name": "stdout",
          "output_type": "stream",
          "text": [
            "Epoch: 13 | Train Loss: 0.0818 | Val Loss: 0.2161\n"
          ]
        },
        {
          "name": "stderr",
          "output_type": "stream",
          "text": [
            "                                               \r"
          ]
        },
        {
          "name": "stdout",
          "output_type": "stream",
          "text": [
            "Epoch: 14 | Train Loss: 0.1077 | Val Loss: 0.1853\n"
          ]
        },
        {
          "name": "stderr",
          "output_type": "stream",
          "text": [
            "                                               \r"
          ]
        },
        {
          "name": "stdout",
          "output_type": "stream",
          "text": [
            "Epoch: 15 | Train Loss: 0.0540 | Val Loss: 0.2038\n"
          ]
        },
        {
          "name": "stderr",
          "output_type": "stream",
          "text": [
            "                                               \r"
          ]
        },
        {
          "name": "stdout",
          "output_type": "stream",
          "text": [
            "Epoch: 16 | Train Loss: 0.0593 | Val Loss: 0.1822\n"
          ]
        },
        {
          "name": "stderr",
          "output_type": "stream",
          "text": [
            "                                               \r"
          ]
        },
        {
          "name": "stdout",
          "output_type": "stream",
          "text": [
            "Epoch: 17 | Train Loss: 0.0476 | Val Loss: 0.1595\n",
            "Model saved!\n"
          ]
        },
        {
          "name": "stderr",
          "output_type": "stream",
          "text": [
            "                                               \r"
          ]
        },
        {
          "name": "stdout",
          "output_type": "stream",
          "text": [
            "Epoch: 18 | Train Loss: 0.0736 | Val Loss: 0.1455\n",
            "Model saved!\n"
          ]
        },
        {
          "name": "stderr",
          "output_type": "stream",
          "text": [
            "                                               \r"
          ]
        },
        {
          "name": "stdout",
          "output_type": "stream",
          "text": [
            "Epoch: 19 | Train Loss: 0.0488 | Val Loss: 0.1485\n"
          ]
        },
        {
          "name": "stderr",
          "output_type": "stream",
          "text": [
            "                                               \r"
          ]
        },
        {
          "name": "stdout",
          "output_type": "stream",
          "text": [
            "Epoch: 20 | Train Loss: 0.0541 | Val Loss: 0.1942\n"
          ]
        },
        {
          "name": "stderr",
          "output_type": "stream",
          "text": [
            "                                               \r"
          ]
        },
        {
          "name": "stdout",
          "output_type": "stream",
          "text": [
            "Epoch: 21 | Train Loss: 0.0363 | Val Loss: 0.2011\n"
          ]
        },
        {
          "name": "stderr",
          "output_type": "stream",
          "text": [
            "                                               \r"
          ]
        },
        {
          "name": "stdout",
          "output_type": "stream",
          "text": [
            "Epoch: 22 | Train Loss: 0.0367 | Val Loss: 0.1676\n"
          ]
        },
        {
          "name": "stderr",
          "output_type": "stream",
          "text": [
            "                                               \r"
          ]
        },
        {
          "name": "stdout",
          "output_type": "stream",
          "text": [
            "Epoch: 23 | Train Loss: 0.0364 | Val Loss: 0.1808\n"
          ]
        },
        {
          "name": "stderr",
          "output_type": "stream",
          "text": [
            "                                               \r"
          ]
        },
        {
          "name": "stdout",
          "output_type": "stream",
          "text": [
            "Epoch: 24 | Train Loss: 0.0601 | Val Loss: 0.1778\n"
          ]
        },
        {
          "name": "stderr",
          "output_type": "stream",
          "text": [
            "                                               "
          ]
        },
        {
          "name": "stdout",
          "output_type": "stream",
          "text": [
            "Epoch: 25 | Train Loss: 0.0190 | Val Loss: 0.1640\n",
            "Early stopping triggered after 26 epochs.\n",
            "Training Complete!\n"
          ]
        },
        {
          "name": "stderr",
          "output_type": "stream",
          "text": [
            "\r"
          ]
        }
      ],
      "source": [
        "num_epochs = 50\n",
        "patience = 7\n",
        "best_val_loss = float('inf')\n",
        "counter = 0\n",
        "writer = SummaryWriter()\n",
        "train_loss = []\n",
        "val_loss = []\n",
        "\n",
        "for epoch in range(num_epochs):\n",
        "  model.train()\n",
        "  batch_train_loss = []\n",
        "\n",
        "  for anchor, positive, negative in tqdm(train_loader,leave=False):\n",
        "    anchor, positive, negative = anchor.to(device), positive.to(device), negative.to(device)\n",
        "\n",
        "    anchor_emb = model(anchor)\n",
        "    positive_emb = model(positive)\n",
        "    negative_emb = model(negative)\n",
        "\n",
        "    mask = semi_hard_negative_mining(anchor_emb, positive_emb, negative_emb)\n",
        "\n",
        "    if mask.sum() > 0:\n",
        "      trainloss = criterion(anchor_emb[mask], positive_emb[mask], negative_emb[mask])\n",
        "      batch_train_loss.append(trainloss.item())\n",
        "\n",
        "      optimizer.zero_grad()\n",
        "      trainloss.backward()\n",
        "      optimizer.step()\n",
        "\n",
        "  model.eval()\n",
        "  batch_val_loss = []\n",
        "  with torch.no_grad():\n",
        "    for anchor, positive, negative in tqdm(val_loader,leave=False):\n",
        "      anchor, positive, negative = anchor.to(device), positive.to(device), negative.to(device)\n",
        "      anchor_emb = model(anchor)\n",
        "      positive_emb = model(positive)\n",
        "      negative_emb = model(negative)\n",
        "\n",
        "      valloss = criterion(anchor_emb, positive_emb, negative_emb)\n",
        "      batch_val_loss.append(valloss.item())\n",
        "\n",
        "  epoch_train_loss = sum(batch_train_loss) / len(batch_train_loss)\n",
        "  epoch_val_loss = sum(batch_val_loss) / len(batch_val_loss)\n",
        "  writer.add_scalar(\"Loss/Train\", epoch_train_loss, epoch)\n",
        "  writer.add_scalar(\"Loss/Validation\", epoch_val_loss, epoch)\n",
        "\n",
        "\n",
        "  train_loss.append(epoch_train_loss)\n",
        "  val_loss.append(epoch_val_loss)\n",
        "  scheduler.step(epoch_val_loss)\n",
        "  print(f\"Epoch: {epoch} | Train Loss: {epoch_train_loss:.4f} | Val Loss: {epoch_val_loss:.4f}\")\n",
        "\n",
        "  if epoch_val_loss < best_val_loss:\n",
        "    best_val_loss = epoch_val_loss\n",
        "    counter = 0\n",
        "    torch.save(model.state_dict(), \"/teamspace/studios/this_studio/model/best_model.pth\")\n",
        "    print(\"Model saved!\")\n",
        "  else:\n",
        "    counter += 1\n",
        "    if counter >= patience:\n",
        "      print(f\"Early stopping triggered after {epoch+1} epochs.\")\n",
        "      break\n",
        "\n",
        "print(\"Training Complete!\")\n"
      ]
    },
    {
      "cell_type": "code",
      "execution_count": 13,
      "metadata": {
        "id": "stfB81p0_vJH"
      },
      "outputs": [
        {
          "data": {
            "image/png": "[encoded data removed]",
            "text/plain": [
              "<Figure size 640x480 with 1 Axes>"
            ]
          },
          "metadata": {},
          "output_type": "display_data"
        }
      ],
      "source": [
        "plt.plot(train_loss, label='Train Loss')\n",
        "plt.plot(val_loss, label='Validation Loss')\n",
        "plt.xlabel('Epoch')\n",
        "plt.ylabel('Loss')\n",
        "plt.legend()\n",
        "plt.show()"
      ]
    }
  ],
  "metadata": {
    "accelerator": "GPU",
    "colab": {
      "gpuType": "T4",
      "provenance": []
    },
    "kernelspec": {
      "display_name": "Python 3",
      "name": "python3"
    },
    "language_info": {
      "name": "python"
    }
  },
  "nbformat": 4,
  "nbformat_minor": 0
}
